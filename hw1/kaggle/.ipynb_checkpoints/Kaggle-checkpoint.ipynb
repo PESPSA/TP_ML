{
 "cells": [
  {
   "cell_type": "code",
   "execution_count": 2,
   "metadata": {},
   "outputs": [],
   "source": [
    "import numpy as np\n",
    "import seaborn as sns\n",
    "import matplotlib.pyplot as plt\n",
    "from scipy import stats\n",
    "import csv\n",
    "from collections import defaultdict\n",
    "import time\n",
    "import pandas as pd\n",
    "from sklearn.model_selection import train_test_split\n",
    "from sklearn.metrics import plot_confusion_matrix\n",
    "%matplotlib inline"
   ]
  },
  {
   "cell_type": "code",
   "execution_count": 3,
   "metadata": {},
   "outputs": [
    {
     "name": "stdout",
     "output_type": "stream",
     "text": [
      "<class 'pandas.core.frame.DataFrame'>\n",
      "RangeIndex: 24521 entries, 0 to 24520\n",
      "Columns: 262 entries, ID to FEATURE_259\n",
      "dtypes: float64(260), int64(2)\n",
      "memory usage: 49.0 MB\n"
     ]
    }
   ],
   "source": [
    "dftrain = pd.read_csv('contest_train_binary.csv', delimiter=',')\n",
    "dftrain.info()"
   ]
  },
  {
   "cell_type": "code",
   "execution_count": 4,
   "metadata": {},
   "outputs": [],
   "source": [
    "#dftest.head()\n",
    "#dftrain.head()"
   ]
  },
  {
   "cell_type": "code",
   "execution_count": 5,
   "metadata": {},
   "outputs": [
    {
     "name": "stdout",
     "output_type": "stream",
     "text": [
      "(24521, 262)\n",
      "(211, 262)\n"
     ]
    }
   ],
   "source": [
    "print(dftrain.shape)\n",
    "dftrain.loc[dftrain.isnull().any(axis=1), :] = np.nan\n",
    "dftrain.dropna(axis=0, how='any',inplace=True)\n",
    "print(dftrain.shape)\n",
    "\n",
    "X = dftrain.iloc[:,2:]\n",
    "y = dftrain.iloc[:,1]\n",
    "\n",
    "X_train, X_test, y_train, y_test = \\\n",
    "    train_test_split(X, y, train_size=0.75, shuffle=True)"
   ]
  },
  {
   "cell_type": "code",
   "execution_count": 6,
   "metadata": {},
   "outputs": [],
   "source": [
    "# X_test = dftrain.iloc[:,1:]\n",
    "# y_test = dftrain.iloc[:,1]"
   ]
  },
  {
   "cell_type": "code",
   "execution_count": 7,
   "metadata": {},
   "outputs": [
    {
     "name": "stdout",
     "output_type": "stream",
     "text": [
      "0.6792452830188679\n"
     ]
    }
   ],
   "source": [
    "from sklearn.naive_bayes import  *\n",
    "\n",
    "classifier = GaussianNB()\n",
    "classifier.fit(X_train, y_train)\n",
    "prediction = classifier.predict(X_test)\n",
    "\n",
    "print(np.mean(prediction == y_test))"
   ]
  },
  {
   "cell_type": "code",
   "execution_count": 8,
   "metadata": {},
   "outputs": [
    {
     "name": "stdout",
     "output_type": "stream",
     "text": [
      "0.6904761904761906\n"
     ]
    }
   ],
   "source": [
    "from sklearn.metrics import roc_auc_score\n",
    "\n",
    "print(roc_auc_score(y_test, prediction))"
   ]
  },
  {
   "cell_type": "code",
   "execution_count": 9,
   "metadata": {},
   "outputs": [],
   "source": [
    "#getting outuput for test data"
   ]
  },
  {
   "cell_type": "code",
   "execution_count": 37,
   "metadata": {},
   "outputs": [
    {
     "name": "stdout",
     "output_type": "stream",
     "text": [
      "<class 'pandas.core.frame.DataFrame'>\n",
      "RangeIndex: 9484 entries, 0 to 9483\n",
      "Columns: 261 entries, ID to FEATURE_259\n",
      "dtypes: float64(260), int64(1)\n",
      "memory usage: 18.9 MB\n"
     ]
    }
   ],
   "source": [
    "dftest = pd.read_csv('contest_test.csv', delimiter=',')\n",
    "dftest.info()"
   ]
  },
  {
   "cell_type": "code",
   "execution_count": 76,
   "metadata": {},
   "outputs": [
    {
     "name": "stdout",
     "output_type": "stream",
     "text": [
      "(9484, 261)\n",
      "(9484, 261)\n",
      "[[9.99999963e-01]\n",
      " [5.61661910e-02]\n",
      " [1.00000000e+00]\n",
      " ...\n",
      " [1.00000000e+00]\n",
      " [3.26514353e-06]\n",
      " [1.00000000e+00]]\n"
     ]
    }
   ],
   "source": [
    "print(dftest.shape)\n",
    "# dftest.loc[dftest.isnull().any(axis=1), :] = np.nan\n",
    "# dftest.dropna(axis=0, how='any',inplace=True)\n",
    "dftest.fillna(0, inplace=True)\n",
    "print(dftest.shape)\n",
    "\n",
    "X = dftest.iloc[:,1:]\n",
    "\n",
    "classifier = GaussianNB()\n",
    "classifier.fit(X_train, y_train)\n",
    "prediction = classifier.predict_proba(X)\n",
    "prediction_ones = np.delete(prediction, 0, 1)\n",
    "print(prediction_ones)\n"
   ]
  },
  {
   "cell_type": "code",
   "execution_count": 77,
   "metadata": {},
   "outputs": [],
   "source": [
    "ID = dftest.iloc[:, 0]\n",
    "prediction_ones = map(lambda x: x[0], prediction_ones)\n"
   ]
  },
  {
   "cell_type": "code",
   "execution_count": 78,
   "metadata": {},
   "outputs": [
    {
     "name": "stdout",
     "output_type": "stream",
     "text": [
      "<bound method NDFrame.head of               ID        TARGET\n",
      "0     1154270440  1.000000e+00\n",
      "1     1147987574  5.616619e-02\n",
      "2     1129622364  1.000000e+00\n",
      "3      619797496  9.892632e-01\n",
      "4     7391484886  8.277988e-16\n",
      "...          ...           ...\n",
      "9479  1413710992  9.992515e-01\n",
      "9480   518946240  1.000000e+00\n",
      "9481    35086884  1.000000e+00\n",
      "9482  1135289763  3.265144e-06\n",
      "9483  3110426355  1.000000e+00\n",
      "\n",
      "[9484 rows x 2 columns]>\n"
     ]
    }
   ],
   "source": [
    "TARGET = pd.Series(prediction_ones, name='TARGET')\n",
    "sub_df = pd.concat([ID, TARGET], axis=1)\n",
    "print(sub_df.head)"
   ]
  },
  {
   "cell_type": "code",
   "execution_count": 80,
   "metadata": {},
   "outputs": [],
   "source": [
    "sub_df.to_csv('sub.csv', index=False)"
   ]
  },
  {
   "cell_type": "markdown",
   "metadata": {},
   "source": [
    "В связи с поздней отправкой на kaggle я не отображаюс в таблице счета но был получен скор 0.50874"
   ]
  }
 ],
 "metadata": {
  "kernelspec": {
   "display_name": "Python 3",
   "language": "python",
   "name": "python3"
  },
  "language_info": {
   "codemirror_mode": {
    "name": "ipython",
    "version": 3
   },
   "file_extension": ".py",
   "mimetype": "text/x-python",
   "name": "python",
   "nbconvert_exporter": "python",
   "pygments_lexer": "ipython3",
   "version": "3.8.3"
  }
 },
 "nbformat": 4,
 "nbformat_minor": 4
}
